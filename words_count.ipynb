{
 "cells": [
  {
   "cell_type": "code",
   "execution_count": 1,
   "id": "892cb16c-1d2a-4226-bbcc-fdd526fb9791",
   "metadata": {},
   "outputs": [
    {
     "name": "stdin",
     "output_type": "stream",
     "text": [
      "enter a sentence how are you doing\n"
     ]
    },
    {
     "name": "stdout",
     "output_type": "stream",
     "text": [
      "number of words in the sentence: 4\n"
     ]
    }
   ],
   "source": [
    "sentence=input(\"enter a sentence\")\n",
    "word_count=1\n",
    "for word in sentence:\n",
    "    if word in \" \":\n",
    "        word_count+=1\n",
    "print(\"number of words in the sentence:\",word_count)"
   ]
  },
  {
   "cell_type": "code",
   "execution_count": null,
   "id": "d59f8b22-4ef2-42f5-ba32-fa4d33a6ef33",
   "metadata": {},
   "outputs": [],
   "source": []
  }
 ],
 "metadata": {
  "kernelspec": {
   "display_name": "Python 3 (ipykernel)",
   "language": "python",
   "name": "python3"
  },
  "language_info": {
   "codemirror_mode": {
    "name": "ipython",
    "version": 3
   },
   "file_extension": ".py",
   "mimetype": "text/x-python",
   "name": "python",
   "nbconvert_exporter": "python",
   "pygments_lexer": "ipython3",
   "version": "3.13.2"
  }
 },
 "nbformat": 4,
 "nbformat_minor": 5
}
